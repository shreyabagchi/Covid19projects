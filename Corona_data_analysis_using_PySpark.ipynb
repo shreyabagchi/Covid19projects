{
 "cells": [
  {
   "cell_type": "code",
   "execution_count": 1,
   "metadata": {},
   "outputs": [],
   "source": [
    "from pyspark.sql import SparkSession\n",
    "import pandas as pd\n",
    "import numpy as np\n",
    "import pyspark.sql.functions as F"
   ]
  },
  {
   "cell_type": "code",
   "execution_count": 2,
   "metadata": {},
   "outputs": [],
   "source": [
    "spark = SparkSession.builder.getOrCreate()"
   ]
  },
  {
   "cell_type": "code",
   "execution_count": 3,
   "metadata": {},
   "outputs": [],
   "source": [
    "cases = spark.read.csv(\"Case.csv\",header=True,sep=\",\",inferSchema=True)"
   ]
  },
  {
   "cell_type": "code",
   "execution_count": 4,
   "metadata": {},
   "outputs": [
    {
     "name": "stdout",
     "output_type": "stream",
     "text": [
      "+-------+--------+---------------+-----+--------------------+---------+---------+----------+\n",
      "|case_id|province|           city|group|      infection_case|confirmed| latitude| longitude|\n",
      "+-------+--------+---------------+-----+--------------------+---------+---------+----------+\n",
      "|1000001|   Seoul|     Yongsan-gu| true|       Itaewon Clubs|       72|37.538621|126.992652|\n",
      "|1000002|   Seoul|        Guro-gu| true| Guro-gu Call Center|       98|37.508163|126.884387|\n",
      "|1000003|   Seoul|  Dongdaemun-gu| true|       Dongan Church|       20|37.592888|127.056766|\n",
      "|1000004|   Seoul|        Guro-gu| true|Manmin Central Ch...|       41|37.481059|126.894343|\n",
      "|1000005|   Seoul|   Eunpyeong-gu| true|Eunpyeong St. Mar...|       14| 37.63369|  126.9165|\n",
      "|1000006|   Seoul|   Seongdong-gu| true|    Seongdong-gu APT|       13| 37.55713|  127.0403|\n",
      "|1000007|   Seoul|      Jongno-gu| true|Jongno Community ...|       10| 37.57681|   127.006|\n",
      "|1000008|   Seoul|        Jung-gu| true|Jung-gu Fashion C...|        7|37.562405|126.984377|\n",
      "|1000009|   Seoul|from other city| true|  Shincheonji Church|        8|        -|         -|\n",
      "|1000010|   Seoul|              -|false|     overseas inflow|      321|        -|         -|\n",
      "|1000011|   Seoul|              -|false|contact with patient|       18|        -|         -|\n",
      "|1000012|   Seoul|              -|false|                 etc|       24|        -|         -|\n",
      "|1100001|   Busan|     Dongnae-gu| true|       Onchun Church|       39| 35.21628|  129.0771|\n",
      "|1100002|   Busan|from other city| true|  Shincheonji Church|       12|        -|         -|\n",
      "|1100003|   Busan|     Suyeong-gu| true|Suyeong-gu Kinder...|        5| 35.16708|  129.1124|\n",
      "|1100004|   Busan|    Haeundae-gu| true|Haeundae-gu Catho...|        6| 35.20599|  129.1256|\n",
      "|1100005|   Busan|         Jin-gu| true|      Jin-gu Academy|        4| 35.17371|  129.0633|\n",
      "|1100006|   Busan|from other city| true|Cheongdo Daenam H...|        1|        -|         -|\n",
      "|1100007|   Busan|              -|false|     overseas inflow|       25|        -|         -|\n",
      "|1100008|   Busan|              -|false|contact with patient|       18|        -|         -|\n",
      "+-------+--------+---------------+-----+--------------------+---------+---------+----------+\n",
      "only showing top 20 rows\n",
      "\n"
     ]
    }
   ],
   "source": [
    "cases.show()"
   ]
  },
  {
   "cell_type": "markdown",
   "metadata": {},
   "source": [
    "## Change Column Names"
   ]
  },
  {
   "cell_type": "code",
   "execution_count": 5,
   "metadata": {},
   "outputs": [],
   "source": [
    "cases = cases.withColumnRenamed(\"infection_case\",\"infection_source\")"
   ]
  },
  {
   "cell_type": "code",
   "execution_count": 7,
   "metadata": {},
   "outputs": [
    {
     "data": {
      "text/plain": [
       "[Row(case_id=7000004, province='Jeju-do', city='from other city', group=True, infection_source='Itaewon Clubs', confirmed=1, latitude='-', longitude='-'),\n",
       " Row(case_id=7000003, province='Jeju-do', city='-', group=False, infection_source='etc', confirmed=4, latitude='-', longitude='-'),\n",
       " Row(case_id=7000002, province='Jeju-do', city='-', group=False, infection_source='contact with patient', confirmed=0, latitude='-', longitude='-'),\n",
       " Row(case_id=7000001, province='Jeju-do', city='-', group=False, infection_source='overseas inflow', confirmed=9, latitude='-', longitude='-'),\n",
       " Row(case_id=6100010, province='Gyeongsangnam-do', city='-', group=False, infection_source='etc', confirmed=18, latitude='-', longitude='-')]"
      ]
     },
     "execution_count": 7,
     "metadata": {},
     "output_type": "execute_result"
    }
   ],
   "source": [
    "cases.rdd.top(5)"
   ]
  },
  {
   "cell_type": "code",
   "execution_count": 12,
   "metadata": {},
   "outputs": [],
   "source": [
    "cases = cases.toDF('case_id','province','city','group','infection_case','confirmed','latitude','longitude')"
   ]
  },
  {
   "cell_type": "code",
   "execution_count": 13,
   "metadata": {},
   "outputs": [
    {
     "name": "stdout",
     "output_type": "stream",
     "text": [
      "+-------+--------+---------------+-----+--------------------+---------+---------+----------+\n",
      "|case_id|province|           city|group|      infection_case|confirmed| latitude| longitude|\n",
      "+-------+--------+---------------+-----+--------------------+---------+---------+----------+\n",
      "|1000001|   Seoul|     Yongsan-gu| true|       Itaewon Clubs|       72|37.538621|126.992652|\n",
      "|1000002|   Seoul|        Guro-gu| true| Guro-gu Call Center|       98|37.508163|126.884387|\n",
      "|1000003|   Seoul|  Dongdaemun-gu| true|       Dongan Church|       20|37.592888|127.056766|\n",
      "|1000004|   Seoul|        Guro-gu| true|Manmin Central Ch...|       41|37.481059|126.894343|\n",
      "|1000005|   Seoul|   Eunpyeong-gu| true|Eunpyeong St. Mar...|       14| 37.63369|  126.9165|\n",
      "|1000006|   Seoul|   Seongdong-gu| true|    Seongdong-gu APT|       13| 37.55713|  127.0403|\n",
      "|1000007|   Seoul|      Jongno-gu| true|Jongno Community ...|       10| 37.57681|   127.006|\n",
      "|1000008|   Seoul|        Jung-gu| true|Jung-gu Fashion C...|        7|37.562405|126.984377|\n",
      "|1000009|   Seoul|from other city| true|  Shincheonji Church|        8|        -|         -|\n",
      "|1000010|   Seoul|              -|false|     overseas inflow|      321|        -|         -|\n",
      "|1000011|   Seoul|              -|false|contact with patient|       18|        -|         -|\n",
      "|1000012|   Seoul|              -|false|                 etc|       24|        -|         -|\n",
      "|1100001|   Busan|     Dongnae-gu| true|       Onchun Church|       39| 35.21628|  129.0771|\n",
      "|1100002|   Busan|from other city| true|  Shincheonji Church|       12|        -|         -|\n",
      "|1100003|   Busan|     Suyeong-gu| true|Suyeong-gu Kinder...|        5| 35.16708|  129.1124|\n",
      "|1100004|   Busan|    Haeundae-gu| true|Haeundae-gu Catho...|        6| 35.20599|  129.1256|\n",
      "|1100005|   Busan|         Jin-gu| true|      Jin-gu Academy|        4| 35.17371|  129.0633|\n",
      "|1100006|   Busan|from other city| true|Cheongdo Daenam H...|        1|        -|         -|\n",
      "|1100007|   Busan|              -|false|     overseas inflow|       25|        -|         -|\n",
      "|1100008|   Busan|              -|false|contact with patient|       18|        -|         -|\n",
      "+-------+--------+---------------+-----+--------------------+---------+---------+----------+\n",
      "only showing top 20 rows\n",
      "\n"
     ]
    }
   ],
   "source": [
    "cases.show()"
   ]
  },
  {
   "cell_type": "markdown",
   "metadata": {},
   "source": [
    "## Select Columns"
   ]
  },
  {
   "cell_type": "code",
   "execution_count": 14,
   "metadata": {},
   "outputs": [
    {
     "name": "stdout",
     "output_type": "stream",
     "text": [
      "+--------+---------------+--------------------+---------+\n",
      "|province|           city|      infection_case|confirmed|\n",
      "+--------+---------------+--------------------+---------+\n",
      "|   Seoul|     Yongsan-gu|       Itaewon Clubs|       72|\n",
      "|   Seoul|        Guro-gu| Guro-gu Call Center|       98|\n",
      "|   Seoul|  Dongdaemun-gu|       Dongan Church|       20|\n",
      "|   Seoul|        Guro-gu|Manmin Central Ch...|       41|\n",
      "|   Seoul|   Eunpyeong-gu|Eunpyeong St. Mar...|       14|\n",
      "|   Seoul|   Seongdong-gu|    Seongdong-gu APT|       13|\n",
      "|   Seoul|      Jongno-gu|Jongno Community ...|       10|\n",
      "|   Seoul|        Jung-gu|Jung-gu Fashion C...|        7|\n",
      "|   Seoul|from other city|  Shincheonji Church|        8|\n",
      "|   Seoul|              -|     overseas inflow|      321|\n",
      "|   Seoul|              -|contact with patient|       18|\n",
      "|   Seoul|              -|                 etc|       24|\n",
      "|   Busan|     Dongnae-gu|       Onchun Church|       39|\n",
      "|   Busan|from other city|  Shincheonji Church|       12|\n",
      "|   Busan|     Suyeong-gu|Suyeong-gu Kinder...|        5|\n",
      "|   Busan|    Haeundae-gu|Haeundae-gu Catho...|        6|\n",
      "|   Busan|         Jin-gu|      Jin-gu Academy|        4|\n",
      "|   Busan|from other city|Cheongdo Daenam H...|        1|\n",
      "|   Busan|              -|     overseas inflow|       25|\n",
      "|   Busan|              -|contact with patient|       18|\n",
      "+--------+---------------+--------------------+---------+\n",
      "only showing top 20 rows\n",
      "\n"
     ]
    }
   ],
   "source": [
    "cases = cases.select('province','city','infection_case','confirmed')\n",
    "cases.show()"
   ]
  },
  {
   "cell_type": "code",
   "execution_count": null,
   "metadata": {},
   "outputs": [],
   "source": [
    "## Sort by confirmed Cases"
   ]
  },
  {
   "cell_type": "code",
   "execution_count": 16,
   "metadata": {},
   "outputs": [
    {
     "name": "stdout",
     "output_type": "stream",
     "text": [
      "+-----------------+---------------+--------------------+---------+\n",
      "|         province|           city|      infection_case|confirmed|\n",
      "+-----------------+---------------+--------------------+---------+\n",
      "|          Jeju-do|              -|contact with patient|        0|\n",
      "|       Gangwon-do|              -|contact with patient|        0|\n",
      "|          Gwangju|              -|                 etc|        0|\n",
      "|            Busan|from other city|Cheongdo Daenam H...|        1|\n",
      "|          Gwangju|              -|contact with patient|        1|\n",
      "|          Jeju-do|from other city|       Itaewon Clubs|        1|\n",
      "|           Sejong|from other city|  Shincheonji Church|        1|\n",
      "|           Sejong|              -|                 etc|        1|\n",
      "|Chungcheongnam-do|              -|contact with patient|        1|\n",
      "|     Jeollabuk-do|from other city|  Shincheonji Church|        1|\n",
      "|     Jeollanam-do|from other city|  Shincheonji Church|        1|\n",
      "|          Incheon|from other city|  Shincheonji Church|        2|\n",
      "|     Jeollanam-do|       Muan-gun|Manmin Central Ch...|        2|\n",
      "|          Daejeon|from other city|  Shincheonji Church|        2|\n",
      "|     Jeollanam-do|              -|contact with patient|        2|\n",
      "|            Daegu|from other city|Cheongdo Daenam H...|        2|\n",
      "|          Daejeon|from other city|Seosan-si Laboratory|        2|\n",
      "| Gyeongsangnam-do|from other city|       Onchun Church|        2|\n",
      "|          Daejeon|         Seo-gu|Korea Forest Engi...|        3|\n",
      "|           Sejong|              -|     overseas inflow|        3|\n",
      "+-----------------+---------------+--------------------+---------+\n",
      "only showing top 20 rows\n",
      "\n"
     ]
    },
    {
     "data": {
      "text/plain": [
       "NoneType"
      ]
     },
     "execution_count": 16,
     "metadata": {},
     "output_type": "execute_result"
    }
   ],
   "source": [
    "cases.sort('confirmed').show()"
   ]
  },
  {
   "cell_type": "code",
   "execution_count": 17,
   "metadata": {},
   "outputs": [
    {
     "name": "stdout",
     "output_type": "stream",
     "text": [
      "+-----------------+---------------+--------------------+---------+\n",
      "|         province|           city|      infection_case|confirmed|\n",
      "+-----------------+---------------+--------------------+---------+\n",
      "|            Daegu|         Nam-gu|  Shincheonji Church|     4510|\n",
      "|            Daegu|              -|contact with patient|      929|\n",
      "|            Daegu|              -|                 etc|      724|\n",
      "| Gyeongsangbuk-do|from other city|  Shincheonji Church|      566|\n",
      "|            Seoul|              -|     overseas inflow|      321|\n",
      "|      Gyeonggi-do|              -|     overseas inflow|      225|\n",
      "|            Daegu|   Dalseong-gun|Second Mi-Ju Hosp...|      196|\n",
      "| Gyeongsangbuk-do|              -|contact with patient|      192|\n",
      "| Gyeongsangbuk-do|              -|                 etc|      134|\n",
      "|            Daegu|         Seo-gu|Hansarang Convale...|      128|\n",
      "| Gyeongsangbuk-do|   Cheongdo-gun|Cheongdo Daenam H...|      120|\n",
      "|Chungcheongnam-do|     Cheonan-si|gym facility in C...|      103|\n",
      "|            Daegu|   Dalseong-gun|Daesil Convalesce...|      100|\n",
      "|            Seoul|        Guro-gu| Guro-gu Call Center|       98|\n",
      "|            Seoul|     Yongsan-gu|       Itaewon Clubs|       72|\n",
      "|      Gyeonggi-do|    Seongnam-si|River of Grace Co...|       72|\n",
      "| Gyeongsangbuk-do|    Bonghwa-gun|Bonghwa Pureun Nu...|       68|\n",
      "| Gyeongsangbuk-do|   Gyeongsan-si|Gyeongsan Seorin ...|       66|\n",
      "|      Gyeonggi-do|              -|contact with patient|       57|\n",
      "|      Gyeonggi-do|   Uijeongbu-si|Uijeongbu St. Mar...|       50|\n",
      "+-----------------+---------------+--------------------+---------+\n",
      "only showing top 20 rows\n",
      "\n"
     ]
    }
   ],
   "source": [
    "cases.sort(cases.confirmed.desc()).show()"
   ]
  },
  {
   "cell_type": "code",
   "execution_count": 18,
   "metadata": {},
   "outputs": [
    {
     "name": "stdout",
     "output_type": "stream",
     "text": [
      "+-----------------+---------------+--------------------+---------+\n",
      "|         province|           city|      infection_case|confirmed|\n",
      "+-----------------+---------------+--------------------+---------+\n",
      "|            Daegu|         Nam-gu|  Shincheonji Church|     4510|\n",
      "|            Daegu|              -|contact with patient|      929|\n",
      "|            Daegu|              -|                 etc|      724|\n",
      "| Gyeongsangbuk-do|from other city|  Shincheonji Church|      566|\n",
      "|            Seoul|              -|     overseas inflow|      321|\n",
      "|      Gyeonggi-do|              -|     overseas inflow|      225|\n",
      "|            Daegu|   Dalseong-gun|Second Mi-Ju Hosp...|      196|\n",
      "| Gyeongsangbuk-do|              -|contact with patient|      192|\n",
      "| Gyeongsangbuk-do|              -|                 etc|      134|\n",
      "|            Daegu|         Seo-gu|Hansarang Convale...|      128|\n",
      "| Gyeongsangbuk-do|   Cheongdo-gun|Cheongdo Daenam H...|      120|\n",
      "|Chungcheongnam-do|     Cheonan-si|gym facility in C...|      103|\n",
      "|            Daegu|   Dalseong-gun|Daesil Convalesce...|      100|\n",
      "|            Seoul|        Guro-gu| Guro-gu Call Center|       98|\n",
      "|            Seoul|     Yongsan-gu|       Itaewon Clubs|       72|\n",
      "|      Gyeonggi-do|    Seongnam-si|River of Grace Co...|       72|\n",
      "| Gyeongsangbuk-do|    Bonghwa-gun|Bonghwa Pureun Nu...|       68|\n",
      "| Gyeongsangbuk-do|   Gyeongsan-si|Gyeongsan Seorin ...|       66|\n",
      "|      Gyeonggi-do|              -|contact with patient|       57|\n",
      "|      Gyeonggi-do|   Uijeongbu-si|Uijeongbu St. Mar...|       50|\n",
      "+-----------------+---------------+--------------------+---------+\n",
      "only showing top 20 rows\n",
      "\n"
     ]
    }
   ],
   "source": [
    "cases.sort(F.desc(\"confirmed\")).show()"
   ]
  },
  {
   "cell_type": "markdown",
   "metadata": {},
   "source": [
    "## Casting"
   ]
  },
  {
   "cell_type": "code",
   "execution_count": 19,
   "metadata": {},
   "outputs": [],
   "source": [
    "from pyspark.sql.types import DoubleType, IntegerType, StringType"
   ]
  },
  {
   "cell_type": "code",
   "execution_count": 20,
   "metadata": {},
   "outputs": [],
   "source": [
    "cases = cases.withColumn('confirmed',F.col('confirmed').cast(IntegerType()))"
   ]
  },
  {
   "cell_type": "code",
   "execution_count": 21,
   "metadata": {},
   "outputs": [],
   "source": [
    "cases = cases.withColumn('city', F.col('city').cast(StringType()))"
   ]
  },
  {
   "cell_type": "markdown",
   "metadata": {},
   "source": [
    "## Filtering"
   ]
  },
  {
   "cell_type": "code",
   "execution_count": 22,
   "metadata": {},
   "outputs": [
    {
     "name": "stdout",
     "output_type": "stream",
     "text": [
      "+--------+------------+--------------------+---------+\n",
      "|province|        city|      infection_case|confirmed|\n",
      "+--------+------------+--------------------+---------+\n",
      "|   Daegu|      Nam-gu|  Shincheonji Church|     4510|\n",
      "|   Daegu|Dalseong-gun|Second Mi-Ju Hosp...|      196|\n",
      "|   Daegu|      Seo-gu|Hansarang Convale...|      128|\n",
      "|   Daegu|Dalseong-gun|Daesil Convalesce...|      100|\n",
      "|   Daegu|     Dong-gu|     Fatima Hospital|       37|\n",
      "|   Daegu|           -|     overseas inflow|       24|\n",
      "|   Daegu|           -|contact with patient|      929|\n",
      "|   Daegu|           -|                 etc|      724|\n",
      "+--------+------------+--------------------+---------+\n",
      "\n"
     ]
    }
   ],
   "source": [
    "cases.filter((cases.confirmed > 10) & (cases.province == 'Daegu')).show()"
   ]
  },
  {
   "cell_type": "markdown",
   "metadata": {},
   "source": [
    "## GroupBy"
   ]
  },
  {
   "cell_type": "code",
   "execution_count": 25,
   "metadata": {},
   "outputs": [
    {
     "name": "stdout",
     "output_type": "stream",
     "text": [
      "+----------------+---------------+--------------+------------+\n",
      "|        province|           city|TotalConfirmed|MaxConfimred|\n",
      "+----------------+---------------+--------------+------------+\n",
      "|Gyeongsangnam-do|       Jinju-si|            10|          10|\n",
      "|           Seoul|        Guro-gu|           139|          98|\n",
      "|         Daejeon|              -|            27|          10|\n",
      "|    Jeollabuk-do|from other city|             1|           1|\n",
      "|Gyeongsangnam-do|Changnyeong-gun|             7|           7|\n",
      "|           Seoul|              -|           363|         321|\n",
      "|         Jeju-do|from other city|             1|           1|\n",
      "|Gyeongsangbuk-do|              -|           336|         192|\n",
      "|Gyeongsangnam-do|   Geochang-gun|            18|          10|\n",
      "|         Incheon|from other city|            22|          20|\n",
      "|           Busan|              -|            72|          29|\n",
      "|           Daegu|         Seo-gu|           128|         128|\n",
      "|           Busan|     Suyeong-gu|             5|           5|\n",
      "|     Gyeonggi-do|   Uijeongbu-si|            50|          50|\n",
      "|           Seoul|     Yongsan-gu|            72|          72|\n",
      "|           Daegu|              -|          1677|         929|\n",
      "|     Gyeonggi-do|    Seongnam-si|            94|          72|\n",
      "|Gyeongsangnam-do|from other city|            34|          32|\n",
      "|     Gyeonggi-do|       Suwon-si|            10|          10|\n",
      "|         Daejeon|from other city|             4|           2|\n",
      "+----------------+---------------+--------------+------------+\n",
      "only showing top 20 rows\n",
      "\n"
     ]
    }
   ],
   "source": [
    "cases.groupBy(['province','city']).agg(F.sum('confirmed').alias('TotalConfirmed'),F.max('confirmed').alias('MaxConfimred')).show()"
   ]
  },
  {
   "cell_type": "code",
   "execution_count": 27,
   "metadata": {},
   "outputs": [
    {
     "name": "stdout",
     "output_type": "stream",
     "text": [
      "+-----+--------+-------------+---------+----------+-----------------------+------------------+----------------+-------------+------------------------+-------------------+------------------+\n",
      "| code|province|         city| latitude| longitude|elementary_school_count|kindergarten_count|university_count|academy_ratio|elderly_population_ratio|elderly_alone_ratio|nursing_home_count|\n",
      "+-----+--------+-------------+---------+----------+-----------------------+------------------+----------------+-------------+------------------------+-------------------+------------------+\n",
      "|10000|   Seoul|        Seoul|37.566953|126.977977|                    607|               830|              48|         1.44|                   15.38|                5.8|             22739|\n",
      "|10010|   Seoul|   Gangnam-gu|37.518421|127.047222|                     33|                38|               0|         4.18|                   13.17|                4.3|              3088|\n",
      "|10020|   Seoul|  Gangdong-gu|37.530492|127.123837|                     27|                32|               0|         1.54|                   14.55|                5.4|              1023|\n",
      "|10030|   Seoul|   Gangbuk-gu|37.639938|127.025508|                     14|                21|               0|         0.67|                   19.49|                8.5|               628|\n",
      "|10040|   Seoul|   Gangseo-gu|37.551166|126.849506|                     36|                56|               1|         1.17|                   14.39|                5.7|              1080|\n",
      "|10050|   Seoul|    Gwanak-gu| 37.47829|126.951502|                     22|                33|               1|         0.89|                   15.12|                4.9|               909|\n",
      "|10060|   Seoul|  Gwangjin-gu|37.538712|127.082366|                     22|                33|               3|         1.16|                   13.75|                4.8|               723|\n",
      "|10070|   Seoul|      Guro-gu|37.495632| 126.88765|                     26|                34|               3|          1.0|                   16.21|                5.7|               741|\n",
      "|10080|   Seoul| Geumcheon-gu|37.456852|126.895229|                     18|                19|               0|         0.96|                   16.15|                6.7|               475|\n",
      "|10090|   Seoul|     Nowon-gu|37.654259|127.056294|                     42|                66|               6|         1.39|                    15.4|                7.4|               952|\n",
      "|10100|   Seoul|    Dobong-gu|37.668952|127.047082|                     23|                26|               1|         0.95|                   17.89|                7.2|               485|\n",
      "|10110|   Seoul|Dongdaemun-gu|37.574552|127.039721|                     21|                31|               4|         1.06|                   17.26|                6.7|               832|\n",
      "|10120|   Seoul|   Dongjak-gu|37.510571|126.963604|                     21|                34|               3|         1.17|                   15.85|                5.2|               762|\n",
      "|10130|   Seoul|      Mapo-gu|37.566283|126.901644|                     22|                24|               2|         1.83|                   14.05|                4.9|               929|\n",
      "|10140|   Seoul| Seodaemun-gu|37.579428|126.936771|                     19|                25|               6|         1.12|                   16.77|                6.2|               587|\n",
      "|10150|   Seoul|    Seocho-gu|37.483804|127.032693|                     24|                27|               1|          2.6|                   13.39|                3.8|              1465|\n",
      "|10160|   Seoul| Seongdong-gu|37.563277|127.036647|                     21|                30|               2|         0.97|                   14.76|                5.3|               593|\n",
      "|10170|   Seoul|  Seongbuk-gu|37.589562|  127.0167|                     29|                49|               6|         1.02|                   16.15|                6.0|               729|\n",
      "|10180|   Seoul|    Songpa-gu| 37.51462|127.106141|                     40|                51|               1|         1.65|                    13.1|                4.1|              1527|\n",
      "|10190|   Seoul| Yangcheon-gu|37.517189|126.866618|                     30|                43|               0|         2.26|                   13.55|                5.5|               816|\n",
      "+-----+--------+-------------+---------+----------+-----------------------+------------------+----------------+-------------+------------------------+-------------------+------------------+\n",
      "only showing top 20 rows\n",
      "\n"
     ]
    }
   ],
   "source": [
    "regions = spark.read.csv(\"Region.csv\", sep=\",\", inferSchema=\"true\", header=\"true\")\n",
    "regions.show()"
   ]
  },
  {
   "cell_type": "code",
   "execution_count": 28,
   "metadata": {},
   "outputs": [],
   "source": [
    "cases = cases.join(regions, on=['province','city'],how='left')"
   ]
  },
  {
   "cell_type": "code",
   "execution_count": 29,
   "metadata": {},
   "outputs": [
    {
     "name": "stdout",
     "output_type": "stream",
     "text": [
      "+--------+---------------+--------------------+---------+-----+---------+----------+-----------------------+------------------+----------------+-------------+------------------------+-------------------+------------------+\n",
      "|province|           city|      infection_case|confirmed| code| latitude| longitude|elementary_school_count|kindergarten_count|university_count|academy_ratio|elderly_population_ratio|elderly_alone_ratio|nursing_home_count|\n",
      "+--------+---------------+--------------------+---------+-----+---------+----------+-----------------------+------------------+----------------+-------------+------------------------+-------------------+------------------+\n",
      "|   Seoul|     Yongsan-gu|       Itaewon Clubs|       72|10210|37.532768|126.990021|                     15|                13|               1|         0.68|                   16.87|                6.5|               435|\n",
      "|   Seoul|        Guro-gu| Guro-gu Call Center|       98|10070|37.495632| 126.88765|                     26|                34|               3|          1.0|                   16.21|                5.7|               741|\n",
      "|   Seoul|  Dongdaemun-gu|       Dongan Church|       20|10110|37.574552|127.039721|                     21|                31|               4|         1.06|                   17.26|                6.7|               832|\n",
      "|   Seoul|        Guro-gu|Manmin Central Ch...|       41|10070|37.495632| 126.88765|                     26|                34|               3|          1.0|                   16.21|                5.7|               741|\n",
      "|   Seoul|   Eunpyeong-gu|Eunpyeong St. Mar...|       14|10220|37.603481|126.929173|                     31|                44|               1|         1.09|                    17.0|                6.5|               874|\n",
      "|   Seoul|   Seongdong-gu|    Seongdong-gu APT|       13|10160|37.563277|127.036647|                     21|                30|               2|         0.97|                   14.76|                5.3|               593|\n",
      "|   Seoul|      Jongno-gu|Jongno Community ...|       10|10230|37.572999|126.979189|                     13|                17|               3|         1.71|                   18.27|                6.8|               668|\n",
      "|   Seoul|        Jung-gu|Jung-gu Fashion C...|        7|10240|37.563988| 126.99753|                     12|                14|               2|         0.94|                   18.42|                7.4|               728|\n",
      "|   Seoul|from other city|  Shincheonji Church|        8| null|     null|      null|                   null|              null|            null|         null|                    null|               null|              null|\n",
      "|   Seoul|              -|     overseas inflow|      321| null|     null|      null|                   null|              null|            null|         null|                    null|               null|              null|\n",
      "|   Seoul|              -|contact with patient|       18| null|     null|      null|                   null|              null|            null|         null|                    null|               null|              null|\n",
      "|   Seoul|              -|                 etc|       24| null|     null|      null|                   null|              null|            null|         null|                    null|               null|              null|\n",
      "|   Busan|     Dongnae-gu|       Onchun Church|       39|11060| 35.20506|129.083673|                     22|                31|               0|         1.98|                   17.53|                7.7|               608|\n",
      "|   Busan|from other city|  Shincheonji Church|       12| null|     null|      null|                   null|              null|            null|         null|                    null|               null|              null|\n",
      "|   Busan|     Suyeong-gu|Suyeong-gu Kinder...|        5|11120|35.145805|129.113194|                     10|                22|               0|         1.56|                    20.4|                8.2|               395|\n",
      "|   Busan|    Haeundae-gu|Haeundae-gu Catho...|        6|11160| 35.16336|129.163594|                     33|                39|               1|         1.63|                   16.53|                7.9|               814|\n",
      "|   Busan|         Jin-gu|      Jin-gu Academy|        4| null|     null|      null|                   null|              null|            null|         null|                    null|               null|              null|\n",
      "|   Busan|from other city|Cheongdo Daenam H...|        1| null|     null|      null|                   null|              null|            null|         null|                    null|               null|              null|\n",
      "|   Busan|              -|     overseas inflow|       25| null|     null|      null|                   null|              null|            null|         null|                    null|               null|              null|\n",
      "|   Busan|              -|contact with patient|       18| null|     null|      null|                   null|              null|            null|         null|                    null|               null|              null|\n",
      "+--------+---------------+--------------------+---------+-----+---------+----------+-----------------------+------------------+----------------+-------------+------------------------+-------------------+------------------+\n",
      "only showing top 20 rows\n",
      "\n"
     ]
    }
   ],
   "source": [
    "cases.show()"
   ]
  },
  {
   "cell_type": "code",
   "execution_count": 30,
   "metadata": {},
   "outputs": [],
   "source": [
    "from pyspark.sql.functions import broadcast\n",
    "cases = cases.join(broadcast(regions), ['province','city'],how='left')"
   ]
  },
  {
   "cell_type": "code",
   "execution_count": 31,
   "metadata": {},
   "outputs": [
    {
     "name": "stdout",
     "output_type": "stream",
     "text": [
      "+--------+---------------+--------------------+---------+-----+---------+----------+-----------------------+------------------+----------------+-------------+------------------------+-------------------+------------------+-----+---------+----------+-----------------------+------------------+----------------+-------------+------------------------+-------------------+------------------+\n",
      "|province|           city|      infection_case|confirmed| code| latitude| longitude|elementary_school_count|kindergarten_count|university_count|academy_ratio|elderly_population_ratio|elderly_alone_ratio|nursing_home_count| code| latitude| longitude|elementary_school_count|kindergarten_count|university_count|academy_ratio|elderly_population_ratio|elderly_alone_ratio|nursing_home_count|\n",
      "+--------+---------------+--------------------+---------+-----+---------+----------+-----------------------+------------------+----------------+-------------+------------------------+-------------------+------------------+-----+---------+----------+-----------------------+------------------+----------------+-------------+------------------------+-------------------+------------------+\n",
      "|   Seoul|     Yongsan-gu|       Itaewon Clubs|       72|10210|37.532768|126.990021|                     15|                13|               1|         0.68|                   16.87|                6.5|               435|10210|37.532768|126.990021|                     15|                13|               1|         0.68|                   16.87|                6.5|               435|\n",
      "|   Seoul|        Guro-gu| Guro-gu Call Center|       98|10070|37.495632| 126.88765|                     26|                34|               3|          1.0|                   16.21|                5.7|               741|10070|37.495632| 126.88765|                     26|                34|               3|          1.0|                   16.21|                5.7|               741|\n",
      "|   Seoul|  Dongdaemun-gu|       Dongan Church|       20|10110|37.574552|127.039721|                     21|                31|               4|         1.06|                   17.26|                6.7|               832|10110|37.574552|127.039721|                     21|                31|               4|         1.06|                   17.26|                6.7|               832|\n",
      "|   Seoul|        Guro-gu|Manmin Central Ch...|       41|10070|37.495632| 126.88765|                     26|                34|               3|          1.0|                   16.21|                5.7|               741|10070|37.495632| 126.88765|                     26|                34|               3|          1.0|                   16.21|                5.7|               741|\n",
      "|   Seoul|   Eunpyeong-gu|Eunpyeong St. Mar...|       14|10220|37.603481|126.929173|                     31|                44|               1|         1.09|                    17.0|                6.5|               874|10220|37.603481|126.929173|                     31|                44|               1|         1.09|                    17.0|                6.5|               874|\n",
      "|   Seoul|   Seongdong-gu|    Seongdong-gu APT|       13|10160|37.563277|127.036647|                     21|                30|               2|         0.97|                   14.76|                5.3|               593|10160|37.563277|127.036647|                     21|                30|               2|         0.97|                   14.76|                5.3|               593|\n",
      "|   Seoul|      Jongno-gu|Jongno Community ...|       10|10230|37.572999|126.979189|                     13|                17|               3|         1.71|                   18.27|                6.8|               668|10230|37.572999|126.979189|                     13|                17|               3|         1.71|                   18.27|                6.8|               668|\n",
      "|   Seoul|        Jung-gu|Jung-gu Fashion C...|        7|10240|37.563988| 126.99753|                     12|                14|               2|         0.94|                   18.42|                7.4|               728|10240|37.563988| 126.99753|                     12|                14|               2|         0.94|                   18.42|                7.4|               728|\n",
      "|   Seoul|from other city|  Shincheonji Church|        8| null|     null|      null|                   null|              null|            null|         null|                    null|               null|              null| null|     null|      null|                   null|              null|            null|         null|                    null|               null|              null|\n",
      "|   Seoul|              -|     overseas inflow|      321| null|     null|      null|                   null|              null|            null|         null|                    null|               null|              null| null|     null|      null|                   null|              null|            null|         null|                    null|               null|              null|\n",
      "|   Seoul|              -|contact with patient|       18| null|     null|      null|                   null|              null|            null|         null|                    null|               null|              null| null|     null|      null|                   null|              null|            null|         null|                    null|               null|              null|\n",
      "|   Seoul|              -|                 etc|       24| null|     null|      null|                   null|              null|            null|         null|                    null|               null|              null| null|     null|      null|                   null|              null|            null|         null|                    null|               null|              null|\n",
      "|   Busan|     Dongnae-gu|       Onchun Church|       39|11060| 35.20506|129.083673|                     22|                31|               0|         1.98|                   17.53|                7.7|               608|11060| 35.20506|129.083673|                     22|                31|               0|         1.98|                   17.53|                7.7|               608|\n",
      "|   Busan|from other city|  Shincheonji Church|       12| null|     null|      null|                   null|              null|            null|         null|                    null|               null|              null| null|     null|      null|                   null|              null|            null|         null|                    null|               null|              null|\n",
      "|   Busan|     Suyeong-gu|Suyeong-gu Kinder...|        5|11120|35.145805|129.113194|                     10|                22|               0|         1.56|                    20.4|                8.2|               395|11120|35.145805|129.113194|                     10|                22|               0|         1.56|                    20.4|                8.2|               395|\n",
      "|   Busan|    Haeundae-gu|Haeundae-gu Catho...|        6|11160| 35.16336|129.163594|                     33|                39|               1|         1.63|                   16.53|                7.9|               814|11160| 35.16336|129.163594|                     33|                39|               1|         1.63|                   16.53|                7.9|               814|\n",
      "|   Busan|         Jin-gu|      Jin-gu Academy|        4| null|     null|      null|                   null|              null|            null|         null|                    null|               null|              null| null|     null|      null|                   null|              null|            null|         null|                    null|               null|              null|\n",
      "|   Busan|from other city|Cheongdo Daenam H...|        1| null|     null|      null|                   null|              null|            null|         null|                    null|               null|              null| null|     null|      null|                   null|              null|            null|         null|                    null|               null|              null|\n",
      "|   Busan|              -|     overseas inflow|       25| null|     null|      null|                   null|              null|            null|         null|                    null|               null|              null| null|     null|      null|                   null|              null|            null|         null|                    null|               null|              null|\n",
      "|   Busan|              -|contact with patient|       18| null|     null|      null|                   null|              null|            null|         null|                    null|               null|              null| null|     null|      null|                   null|              null|            null|         null|                    null|               null|              null|\n",
      "+--------+---------------+--------------------+---------+-----+---------+----------+-----------------------+------------------+----------------+-------------+------------------------+-------------------+------------------+-----+---------+----------+-----------------------+------------------+----------------+-------------+------------------------+-------------------+------------------+\n",
      "only showing top 20 rows\n",
      "\n"
     ]
    }
   ],
   "source": [
    "cases.show()"
   ]
  },
  {
   "cell_type": "code",
   "execution_count": 36,
   "metadata": {},
   "outputs": [],
   "source": [
    "cases = spark.read.csv(\"Case.csv\",header=True,sep=\",\",inferSchema=True)"
   ]
  },
  {
   "cell_type": "code",
   "execution_count": 37,
   "metadata": {},
   "outputs": [],
   "source": [
    "cases.registerTempTable('cases_table')"
   ]
  },
  {
   "cell_type": "code",
   "execution_count": 38,
   "metadata": {},
   "outputs": [],
   "source": [
    "newDF = spark.sql('select * from cases_table where confirmed>100')"
   ]
  },
  {
   "cell_type": "code",
   "execution_count": 39,
   "metadata": {},
   "outputs": [
    {
     "name": "stdout",
     "output_type": "stream",
     "text": [
      "+-------+-----------------+---------------+-----+--------------------+---------+---------+----------+\n",
      "|case_id|         province|           city|group|      infection_case|confirmed| latitude| longitude|\n",
      "+-------+-----------------+---------------+-----+--------------------+---------+---------+----------+\n",
      "|1000010|            Seoul|              -|false|     overseas inflow|      321|        -|         -|\n",
      "|1200001|            Daegu|         Nam-gu| true|  Shincheonji Church|     4510| 35.84008|  128.5667|\n",
      "|1200002|            Daegu|   Dalseong-gun| true|Second Mi-Ju Hosp...|      196|35.857375|128.466651|\n",
      "|1200003|            Daegu|         Seo-gu| true|Hansarang Convale...|      128|35.885592|128.556649|\n",
      "|1200008|            Daegu|              -|false|contact with patient|      929|        -|         -|\n",
      "|1200009|            Daegu|              -|false|                 etc|      724|        -|         -|\n",
      "|2000007|      Gyeonggi-do|              -|false|     overseas inflow|      225|        -|         -|\n",
      "|4100001|Chungcheongnam-do|     Cheonan-si| true|gym facility in C...|      103| 36.81503|  127.1139|\n",
      "|6000001| Gyeongsangbuk-do|from other city| true|  Shincheonji Church|      566|        -|         -|\n",
      "|6000002| Gyeongsangbuk-do|   Cheongdo-gun| true|Cheongdo Daenam H...|      120| 35.64887|  128.7368|\n",
      "|6000011| Gyeongsangbuk-do|              -|false|contact with patient|      192|        -|         -|\n",
      "|6000012| Gyeongsangbuk-do|              -|false|                 etc|      134|        -|         -|\n",
      "+-------+-----------------+---------------+-----+--------------------+---------+---------+----------+\n",
      "\n"
     ]
    }
   ],
   "source": [
    "newDF.show()"
   ]
  },
  {
   "cell_type": "markdown",
   "metadata": {},
   "source": [
    "## Usinf Spark Native Functions"
   ]
  },
  {
   "cell_type": "code",
   "execution_count": 41,
   "metadata": {},
   "outputs": [
    {
     "name": "stdout",
     "output_type": "stream",
     "text": [
      "+-------+--------+---------------+-----+--------------------+---------+---------+----------+------------+\n",
      "|case_id|province|           city|group|      infection_case|confirmed| latitude| longitude|NewConfirmed|\n",
      "+-------+--------+---------------+-----+--------------------+---------+---------+----------+------------+\n",
      "|1000001|   Seoul|     Yongsan-gu| true|       Itaewon Clubs|       72|37.538621|126.992652|         172|\n",
      "|1000002|   Seoul|        Guro-gu| true| Guro-gu Call Center|       98|37.508163|126.884387|         198|\n",
      "|1000003|   Seoul|  Dongdaemun-gu| true|       Dongan Church|       20|37.592888|127.056766|         120|\n",
      "|1000004|   Seoul|        Guro-gu| true|Manmin Central Ch...|       41|37.481059|126.894343|         141|\n",
      "|1000005|   Seoul|   Eunpyeong-gu| true|Eunpyeong St. Mar...|       14| 37.63369|  126.9165|         114|\n",
      "|1000006|   Seoul|   Seongdong-gu| true|    Seongdong-gu APT|       13| 37.55713|  127.0403|         113|\n",
      "|1000007|   Seoul|      Jongno-gu| true|Jongno Community ...|       10| 37.57681|   127.006|         110|\n",
      "|1000008|   Seoul|        Jung-gu| true|Jung-gu Fashion C...|        7|37.562405|126.984377|         107|\n",
      "|1000009|   Seoul|from other city| true|  Shincheonji Church|        8|        -|         -|         108|\n",
      "|1000010|   Seoul|              -|false|     overseas inflow|      321|        -|         -|         421|\n",
      "|1000011|   Seoul|              -|false|contact with patient|       18|        -|         -|         118|\n",
      "|1000012|   Seoul|              -|false|                 etc|       24|        -|         -|         124|\n",
      "|1100001|   Busan|     Dongnae-gu| true|       Onchun Church|       39| 35.21628|  129.0771|         139|\n",
      "|1100002|   Busan|from other city| true|  Shincheonji Church|       12|        -|         -|         112|\n",
      "|1100003|   Busan|     Suyeong-gu| true|Suyeong-gu Kinder...|        5| 35.16708|  129.1124|         105|\n",
      "|1100004|   Busan|    Haeundae-gu| true|Haeundae-gu Catho...|        6| 35.20599|  129.1256|         106|\n",
      "|1100005|   Busan|         Jin-gu| true|      Jin-gu Academy|        4| 35.17371|  129.0633|         104|\n",
      "|1100006|   Busan|from other city| true|Cheongdo Daenam H...|        1|        -|         -|         101|\n",
      "|1100007|   Busan|              -|false|     overseas inflow|       25|        -|         -|         125|\n",
      "|1100008|   Busan|              -|false|contact with patient|       18|        -|         -|         118|\n",
      "+-------+--------+---------------+-----+--------------------+---------+---------+----------+------------+\n",
      "only showing top 20 rows\n",
      "\n"
     ]
    }
   ],
   "source": [
    "casesWithNewConfirmed = cases.withColumn(\"NewConfirmed\", 100 + F.col(\"confirmed\"))\n",
    "casesWithNewConfirmed.show()"
   ]
  },
  {
   "cell_type": "code",
   "execution_count": 42,
   "metadata": {},
   "outputs": [
    {
     "name": "stdout",
     "output_type": "stream",
     "text": [
      "+-------+--------+---------------+-----+--------------------+---------+---------+----------+--------------------+\n",
      "|case_id|province|           city|group|      infection_case|confirmed| latitude| longitude|        ExpConfirmed|\n",
      "+-------+--------+---------------+-----+--------------------+---------+---------+----------+--------------------+\n",
      "|1000001|   Seoul|     Yongsan-gu| true|       Itaewon Clubs|       72|37.538621|126.992652|1.858671745284127...|\n",
      "|1000002|   Seoul|        Guro-gu| true| Guro-gu Call Center|       98|37.508163|126.884387|3.637970947608805E42|\n",
      "|1000003|   Seoul|  Dongdaemun-gu| true|       Dongan Church|       20|37.592888|127.056766| 4.851651954097903E8|\n",
      "|1000004|   Seoul|        Guro-gu| true|Manmin Central Ch...|       41|37.481059|126.894343|6.398434935300549...|\n",
      "|1000005|   Seoul|   Eunpyeong-gu| true|Eunpyeong St. Mar...|       14| 37.63369|  126.9165|  1202604.2841647768|\n",
      "|1000006|   Seoul|   Seongdong-gu| true|    Seongdong-gu APT|       13| 37.55713|  127.0403|   442413.3920089205|\n",
      "|1000007|   Seoul|      Jongno-gu| true|Jongno Community ...|       10| 37.57681|   127.006|  22026.465794806718|\n",
      "|1000008|   Seoul|        Jung-gu| true|Jung-gu Fashion C...|        7|37.562405|126.984377|  1096.6331584284585|\n",
      "|1000009|   Seoul|from other city| true|  Shincheonji Church|        8|        -|         -|  2980.9579870417283|\n",
      "|1000010|   Seoul|              -|false|     overseas inflow|      321|        -|         -|2.56170249311968E139|\n",
      "|1000011|   Seoul|              -|false|contact with patient|       18|        -|         -| 6.565996913733051E7|\n",
      "|1000012|   Seoul|              -|false|                 etc|       24|        -|         -|2.648912212984347E10|\n",
      "|1100001|   Busan|     Dongnae-gu| true|       Onchun Church|       39| 35.21628|  129.0771|8.659340042399374...|\n",
      "|1100002|   Busan|from other city| true|  Shincheonji Church|       12|        -|         -|  162754.79141900392|\n",
      "|1100003|   Busan|     Suyeong-gu| true|Suyeong-gu Kinder...|        5| 35.16708|  129.1124|   148.4131591025766|\n",
      "|1100004|   Busan|    Haeundae-gu| true|Haeundae-gu Catho...|        6| 35.20599|  129.1256|   403.4287934927351|\n",
      "|1100005|   Busan|         Jin-gu| true|      Jin-gu Academy|        4| 35.17371|  129.0633|  54.598150033144236|\n",
      "|1100006|   Busan|from other city| true|Cheongdo Daenam H...|        1|        -|         -|   2.718281828459045|\n",
      "|1100007|   Busan|              -|false|     overseas inflow|       25|        -|         -|7.200489933738588E10|\n",
      "|1100008|   Busan|              -|false|contact with patient|       18|        -|         -| 6.565996913733051E7|\n",
      "+-------+--------+---------------+-----+--------------------+---------+---------+----------+--------------------+\n",
      "only showing top 20 rows\n",
      "\n"
     ]
    }
   ],
   "source": [
    "casesWithExpConfirmed = cases.withColumn(\"ExpConfirmed\",F.exp(\"confirmed\"))\n",
    "casesWithExpConfirmed.show()"
   ]
  },
  {
   "cell_type": "markdown",
   "metadata": {},
   "source": [
    "## Spark UDF"
   ]
  },
  {
   "cell_type": "code",
   "execution_count": 10,
   "metadata": {},
   "outputs": [
    {
     "name": "stdout",
     "output_type": "stream",
     "text": [
      "+-------+--------+---------------+-----+--------------------+---------+---------+----------+-------+\n",
      "|case_id|province|           city|group|    infection_source|confirmed| latitude| longitude|HighLow|\n",
      "+-------+--------+---------------+-----+--------------------+---------+---------+----------+-------+\n",
      "|1000001|   Seoul|     Yongsan-gu| true|       Itaewon Clubs|       72|37.538621|126.992652|   high|\n",
      "|1000002|   Seoul|        Guro-gu| true| Guro-gu Call Center|       98|37.508163|126.884387|   high|\n",
      "|1000003|   Seoul|  Dongdaemun-gu| true|       Dongan Church|       20|37.592888|127.056766|    low|\n",
      "|1000004|   Seoul|        Guro-gu| true|Manmin Central Ch...|       41|37.481059|126.894343|    low|\n",
      "|1000005|   Seoul|   Eunpyeong-gu| true|Eunpyeong St. Mar...|       14| 37.63369|  126.9165|    low|\n",
      "|1000006|   Seoul|   Seongdong-gu| true|    Seongdong-gu APT|       13| 37.55713|  127.0403|    low|\n",
      "|1000007|   Seoul|      Jongno-gu| true|Jongno Community ...|       10| 37.57681|   127.006|    low|\n",
      "|1000008|   Seoul|        Jung-gu| true|Jung-gu Fashion C...|        7|37.562405|126.984377|    low|\n",
      "|1000009|   Seoul|from other city| true|  Shincheonji Church|        8|        -|         -|    low|\n",
      "|1000010|   Seoul|              -|false|     overseas inflow|      321|        -|         -|   high|\n",
      "|1000011|   Seoul|              -|false|contact with patient|       18|        -|         -|    low|\n",
      "|1000012|   Seoul|              -|false|                 etc|       24|        -|         -|    low|\n",
      "|1100001|   Busan|     Dongnae-gu| true|       Onchun Church|       39| 35.21628|  129.0771|    low|\n",
      "|1100002|   Busan|from other city| true|  Shincheonji Church|       12|        -|         -|    low|\n",
      "|1100003|   Busan|     Suyeong-gu| true|Suyeong-gu Kinder...|        5| 35.16708|  129.1124|    low|\n",
      "|1100004|   Busan|    Haeundae-gu| true|Haeundae-gu Catho...|        6| 35.20599|  129.1256|    low|\n",
      "|1100005|   Busan|         Jin-gu| true|      Jin-gu Academy|        4| 35.17371|  129.0633|    low|\n",
      "|1100006|   Busan|from other city| true|Cheongdo Daenam H...|        1|        -|         -|    low|\n",
      "|1100007|   Busan|              -|false|     overseas inflow|       25|        -|         -|    low|\n",
      "|1100008|   Busan|              -|false|contact with patient|       18|        -|         -|    low|\n",
      "+-------+--------+---------------+-----+--------------------+---------+---------+----------+-------+\n",
      "only showing top 20 rows\n",
      "\n"
     ]
    }
   ],
   "source": [
    "from pyspark.sql.types import *\n",
    "\n",
    "def casesHighLow(confirmed):\n",
    "    if confirmed < 50:\n",
    "        return 'low'\n",
    "    else:\n",
    "        return 'high'\n",
    "    \n",
    "casesHighLowUDF=F.udf(casesHighLow,StringType())\n",
    "casesWithHighLow = cases.withColumn(\"HighLow\", casesHighLowUDF(\"confirmed\"))\n",
    "casesWithHighLow.show()"
   ]
  },
  {
   "cell_type": "code",
   "execution_count": 44,
   "metadata": {},
   "outputs": [
    {
     "name": "stdout",
     "output_type": "stream",
     "text": [
      "root\n",
      " |-- case_id: integer (nullable = true)\n",
      " |-- province: string (nullable = true)\n",
      " |-- city: string (nullable = true)\n",
      " |-- group: boolean (nullable = true)\n",
      " |-- infection_case: string (nullable = true)\n",
      " |-- confirmed: integer (nullable = true)\n",
      " |-- latitude: string (nullable = true)\n",
      " |-- longitude: string (nullable = true)\n",
      "\n"
     ]
    }
   ],
   "source": [
    "cases.printSchema()"
   ]
  },
  {
   "cell_type": "markdown",
   "metadata": {},
   "source": [
    "## Windowing, TimeLag(), Rank(), Rolling function"
   ]
  },
  {
   "cell_type": "code",
   "execution_count": 18,
   "metadata": {},
   "outputs": [
    {
     "name": "stdout",
     "output_type": "stream",
     "text": [
      "+-------------------+----+-----------------+---------+--------+--------+\n",
      "|               date|time|         province|confirmed|released|deceased|\n",
      "+-------------------+----+-----------------+---------+--------+--------+\n",
      "|2020-01-20 00:00:00|  16|            Seoul|        0|       0|       0|\n",
      "|2020-01-20 00:00:00|  16|            Busan|        0|       0|       0|\n",
      "|2020-01-20 00:00:00|  16|            Daegu|        0|       0|       0|\n",
      "|2020-01-20 00:00:00|  16|          Incheon|        1|       0|       0|\n",
      "|2020-01-20 00:00:00|  16|          Gwangju|        0|       0|       0|\n",
      "|2020-01-20 00:00:00|  16|          Daejeon|        0|       0|       0|\n",
      "|2020-01-20 00:00:00|  16|            Ulsan|        0|       0|       0|\n",
      "|2020-01-20 00:00:00|  16|           Sejong|        0|       0|       0|\n",
      "|2020-01-20 00:00:00|  16|      Gyeonggi-do|        0|       0|       0|\n",
      "|2020-01-20 00:00:00|  16|       Gangwon-do|        0|       0|       0|\n",
      "|2020-01-20 00:00:00|  16|Chungcheongbuk-do|        0|       0|       0|\n",
      "|2020-01-20 00:00:00|  16|Chungcheongnam-do|        0|       0|       0|\n",
      "|2020-01-20 00:00:00|  16|     Jeollabuk-do|        0|       0|       0|\n",
      "|2020-01-20 00:00:00|  16|     Jeollanam-do|        0|       0|       0|\n",
      "|2020-01-20 00:00:00|  16| Gyeongsangbuk-do|        0|       0|       0|\n",
      "|2020-01-20 00:00:00|  16| Gyeongsangnam-do|        0|       0|       0|\n",
      "|2020-01-20 00:00:00|  16|          Jeju-do|        0|       0|       0|\n",
      "|2020-01-21 00:00:00|  16|            Seoul|        0|       0|       0|\n",
      "|2020-01-21 00:00:00|  16|            Busan|        0|       0|       0|\n",
      "|2020-01-21 00:00:00|  16|            Daegu|        0|       0|       0|\n",
      "+-------------------+----+-----------------+---------+--------+--------+\n",
      "only showing top 20 rows\n",
      "\n"
     ]
    }
   ],
   "source": [
    "timeprovince = spark.read.csv(\"TimeProvince.csv\",header=True,sep=\",\",inferSchema=True)\n",
    "timeprovince.show()"
   ]
  },
  {
   "cell_type": "code",
   "execution_count": 12,
   "metadata": {},
   "outputs": [],
   "source": [
    "from pyspark.sql.window import Window"
   ]
  },
  {
   "cell_type": "code",
   "execution_count": 14,
   "metadata": {},
   "outputs": [
    {
     "name": "stdout",
     "output_type": "stream",
     "text": [
      "+-------+-----------------+---------------+-----+--------------------+---------+---------+----------+----+\n",
      "|case_id|         province|           city|group|    infection_source|confirmed| latitude| longitude|rank|\n",
      "+-------+-----------------+---------------+-----+--------------------+---------+---------+----------+----+\n",
      "|1000010|            Seoul|              -|false|     overseas inflow|      321|        -|         -|   1|\n",
      "|6000011| Gyeongsangbuk-do|              -|false|contact with patient|      192|        -|         -|   1|\n",
      "|4100001|Chungcheongnam-do|     Cheonan-si| true|gym facility in C...|      103| 36.81503|  127.1139|   1|\n",
      "|1100002|            Busan|from other city| true|  Shincheonji Church|       12|        -|         -|   1|\n",
      "|2000005|      Gyeonggi-do|    Seongnam-si| true|Bundang Jesaeng H...|       22| 37.38833|  127.1218|   1|\n",
      "|1200003|            Daegu|         Seo-gu| true|Hansarang Convale...|      128|35.885592|128.556649|   1|\n",
      "|2000007|      Gyeonggi-do|              -|false|     overseas inflow|      225|        -|         -|   1|\n",
      "|1100006|            Busan|from other city| true|Cheongdo Daenam H...|        1|        -|         -|   1|\n",
      "|1300003|          Gwangju|              -|false|contact with patient|        1|        -|         -|   1|\n",
      "|1700003|           Sejong|from other city| true|  Shincheonji Church|        1|        -|         -|   1|\n",
      "|1700006|           Sejong|              -|false|                 etc|        1|        -|         -|   1|\n",
      "|4100004|Chungcheongnam-do|              -|false|contact with patient|        1|        -|         -|   1|\n",
      "|5000001|     Jeollabuk-do|from other city| true|  Shincheonji Church|        1|        -|         -|   1|\n",
      "|5100002|     Jeollanam-do|from other city| true|  Shincheonji Church|        1|        -|         -|   1|\n",
      "|7000004|          Jeju-do|from other city| true|       Itaewon Clubs|        1|        -|         -|   1|\n",
      "|1000006|            Seoul|   Seongdong-gu| true|    Seongdong-gu APT|       13| 37.55713|  127.0403|   1|\n",
      "|1100004|            Busan|    Haeundae-gu| true|Haeundae-gu Catho...|        6| 35.20599|  129.1256|   1|\n",
      "|4000001|Chungcheongbuk-do|from other city| true|  Shincheonji Church|        6|        -|         -|   1|\n",
      "|4000004|Chungcheongbuk-do|              -|false|contact with patient|        6|        -|         -|   1|\n",
      "|6100009| Gyeongsangnam-do|              -|false|contact with patient|        6|        -|         -|   1|\n",
      "+-------+-----------------+---------------+-----+--------------------+---------+---------+----------+----+\n",
      "only showing top 20 rows\n",
      "\n"
     ]
    }
   ],
   "source": [
    "windowSpec = Window().partitionBy(['confirmed']).orderBy(F.desc('confirmed'))\n",
    "cases.withColumn('rank',F.rank().over(windowSpec)).show()"
   ]
  },
  {
   "cell_type": "code",
   "execution_count": 19,
   "metadata": {
    "scrolled": false
   },
   "outputs": [
    {
     "name": "stdout",
     "output_type": "stream",
     "text": [
      "+-------------------+----+--------+---------+--------+--------+-----+\n",
      "|               date|time|province|confirmed|released|deceased|lag_7|\n",
      "+-------------------+----+--------+---------+--------+--------+-----+\n",
      "|2020-03-10 00:00:00|   0|  Sejong|        8|       0|       0|    1|\n",
      "|2020-03-11 00:00:00|   0|  Sejong|       10|       0|       0|    1|\n",
      "|2020-03-12 00:00:00|   0|  Sejong|       15|       0|       0|    1|\n",
      "|2020-03-13 00:00:00|   0|  Sejong|       32|       0|       0|    1|\n",
      "|2020-03-14 00:00:00|   0|  Sejong|       38|       0|       0|    2|\n",
      "|2020-03-15 00:00:00|   0|  Sejong|       39|       0|       0|    3|\n",
      "|2020-03-16 00:00:00|   0|  Sejong|       40|       0|       0|    6|\n",
      "|2020-03-17 00:00:00|   0|  Sejong|       40|       0|       0|    8|\n",
      "|2020-03-18 00:00:00|   0|  Sejong|       41|       0|       0|   10|\n",
      "|2020-03-19 00:00:00|   0|  Sejong|       41|       0|       0|   15|\n",
      "|2020-03-20 00:00:00|   0|  Sejong|       41|       0|       0|   32|\n",
      "|2020-03-21 00:00:00|   0|  Sejong|       41|       2|       0|   38|\n",
      "|2020-03-22 00:00:00|   0|  Sejong|       41|       3|       0|   39|\n",
      "|2020-03-23 00:00:00|   0|  Sejong|       42|       3|       0|   40|\n",
      "|2020-03-24 00:00:00|   0|  Sejong|       42|       3|       0|   40|\n",
      "|2020-03-25 00:00:00|   0|  Sejong|       44|       3|       0|   41|\n",
      "|2020-03-26 00:00:00|   0|  Sejong|       44|       8|       0|   41|\n",
      "|2020-03-27 00:00:00|   0|  Sejong|       44|       9|       0|   41|\n",
      "|2020-03-28 00:00:00|   0|  Sejong|       44|       9|       0|   41|\n",
      "|2020-03-29 00:00:00|   0|  Sejong|       46|      11|       0|   41|\n",
      "+-------------------+----+--------+---------+--------+--------+-----+\n",
      "only showing top 20 rows\n",
      "\n"
     ]
    }
   ],
   "source": [
    "windowSpec = Window().partitionBy(['province']).orderBy('date')\n",
    "timeprovinceWithLag = timeprovince.withColumn(\"lag_7\",F.lag(\"confirmed\",7).over(windowSpec))\n",
    "timeprovinceWithLag.filter(timeprovinceWithLag.date>'2020-03-10').show()"
   ]
  },
  {
   "cell_type": "code",
   "execution_count": 20,
   "metadata": {},
   "outputs": [
    {
     "name": "stdout",
     "output_type": "stream",
     "text": [
      "+-------------------+----+--------+---------+--------+--------+------------------+\n",
      "|               date|time|province|confirmed|released|deceased|  roll_7_confirmed|\n",
      "+-------------------+----+--------+---------+--------+--------+------------------+\n",
      "|2020-03-10 00:00:00|   0|  Sejong|        8|       0|       0| 3.142857142857143|\n",
      "|2020-03-11 00:00:00|   0|  Sejong|       10|       0|       0| 4.428571428571429|\n",
      "|2020-03-12 00:00:00|   0|  Sejong|       15|       0|       0| 6.428571428571429|\n",
      "|2020-03-13 00:00:00|   0|  Sejong|       32|       0|       0|10.857142857142858|\n",
      "|2020-03-14 00:00:00|   0|  Sejong|       38|       0|       0|              16.0|\n",
      "|2020-03-15 00:00:00|   0|  Sejong|       39|       0|       0|21.142857142857142|\n",
      "|2020-03-16 00:00:00|   0|  Sejong|       40|       0|       0|              26.0|\n",
      "|2020-03-17 00:00:00|   0|  Sejong|       40|       0|       0|30.571428571428573|\n",
      "|2020-03-18 00:00:00|   0|  Sejong|       41|       0|       0|              35.0|\n",
      "|2020-03-19 00:00:00|   0|  Sejong|       41|       0|       0|38.714285714285715|\n",
      "|2020-03-20 00:00:00|   0|  Sejong|       41|       0|       0|              40.0|\n",
      "|2020-03-21 00:00:00|   0|  Sejong|       41|       2|       0| 40.42857142857143|\n",
      "|2020-03-22 00:00:00|   0|  Sejong|       41|       3|       0|40.714285714285715|\n",
      "|2020-03-23 00:00:00|   0|  Sejong|       42|       3|       0|              41.0|\n",
      "|2020-03-24 00:00:00|   0|  Sejong|       42|       3|       0|41.285714285714285|\n",
      "|2020-03-25 00:00:00|   0|  Sejong|       44|       3|       0|41.714285714285715|\n",
      "|2020-03-26 00:00:00|   0|  Sejong|       44|       8|       0|42.142857142857146|\n",
      "|2020-03-27 00:00:00|   0|  Sejong|       44|       9|       0| 42.57142857142857|\n",
      "|2020-03-28 00:00:00|   0|  Sejong|       44|       9|       0|              43.0|\n",
      "|2020-03-29 00:00:00|   0|  Sejong|       46|      11|       0|43.714285714285715|\n",
      "+-------------------+----+--------+---------+--------+--------+------------------+\n",
      "only showing top 20 rows\n",
      "\n"
     ]
    }
   ],
   "source": [
    "windowSpec = Window().partitionBy(['province']).orderBy('date').rowsBetween(-6,0)\n",
    "timeprovinceWithRoll = timeprovince.withColumn(\"roll_7_confirmed\",F.mean(\"confirmed\").over(windowSpec))\n",
    "timeprovinceWithRoll.filter(timeprovinceWithLag.date>'2020-03-10').show()"
   ]
  },
  {
   "cell_type": "code",
   "execution_count": 22,
   "metadata": {},
   "outputs": [],
   "source": [
    "##cases = cases.withColumn(\"salt_key\", F.concat(F.col(\"infection_case\"), F.lit(\"_\"), F.monotonically_increasing_id() % 10))"
   ]
  },
  {
   "cell_type": "code",
   "execution_count": null,
   "metadata": {},
   "outputs": [],
   "source": []
  },
  {
   "cell_type": "code",
   "execution_count": null,
   "metadata": {},
   "outputs": [],
   "source": []
  },
  {
   "cell_type": "code",
   "execution_count": null,
   "metadata": {},
   "outputs": [],
   "source": []
  },
  {
   "cell_type": "code",
   "execution_count": null,
   "metadata": {},
   "outputs": [],
   "source": []
  },
  {
   "cell_type": "code",
   "execution_count": null,
   "metadata": {},
   "outputs": [],
   "source": []
  },
  {
   "cell_type": "code",
   "execution_count": null,
   "metadata": {},
   "outputs": [],
   "source": []
  }
 ],
 "metadata": {
  "kernelspec": {
   "display_name": "Python 3",
   "language": "python",
   "name": "python3"
  },
  "language_info": {
   "codemirror_mode": {
    "name": "ipython",
    "version": 3
   },
   "file_extension": ".py",
   "mimetype": "text/x-python",
   "name": "python",
   "nbconvert_exporter": "python",
   "pygments_lexer": "ipython3",
   "version": "3.7.4"
  }
 },
 "nbformat": 4,
 "nbformat_minor": 2
}
